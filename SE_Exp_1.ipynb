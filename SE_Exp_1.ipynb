{
  "nbformat": 4,
  "nbformat_minor": 0,
  "metadata": {
    "colab": {
      "provenance": [],
      "include_colab_link": true
    },
    "kernelspec": {
      "name": "python3",
      "display_name": "Python 3"
    },
    "language_info": {
      "name": "python"
    }
  },
  "cells": [
    {
      "cell_type": "markdown",
      "metadata": {
        "id": "view-in-github",
        "colab_type": "text"
      },
      "source": [
        "<a href=\"https://colab.research.google.com/github/aparna-shivampeta/SELAB1/blob/main/SE_Exp_1.ipynb\" target=\"_parent\"><img src=\"https://colab.research.google.com/assets/colab-badge.svg\" alt=\"Open In Colab\"/></a>"
      ]
    },
    {
      "cell_type": "markdown",
      "source": [
        "**1.Implement weather modeling using the quadratic solution in stages: hard-coding variables\n",
        "keyboard input, read from a file, for a single set of input, multiple sets of inputs.**\n",
        "\n",
        "**a. save all versions, debug, fix problems, create a Github account**"
      ],
      "metadata": {
        "id": "d6K4E6gIkKMa"
      }
    },
    {
      "cell_type": "markdown",
      "source": [
        "**1.\tHardcoding variables.**"
      ],
      "metadata": {
        "id": "tgEDyqXZkxTG"
      }
    },
    {
      "cell_type": "code",
      "execution_count": 1,
      "metadata": {
        "id": "nEzgTz52gb5S"
      },
      "outputs": [],
      "source": [
        "# Quadratic Formula: ax^2 + bx + c = 0\n",
        "import math\n",
        "\n",
        "# Hard-coded coefficients\n",
        "a = 1\n",
        "b = -3\n",
        "c = 2\n",
        "\n",
        "# Quadratic formula solution\n",
        "def solve_quadratic(a, b, c):\n",
        "    discriminant = b**2 - 4*a*c\n",
        "    if discriminant > 0:\n",
        "        root1 = (-b + math.sqrt(discriminant)) / (2*a)\n",
        "        root2 = (-b - math.sqrt(discriminant)) / (2*a)\n",
        "        return root1, root2\n",
        "    elif discriminant == 0:\n",
        "        root = -b / (2*a)\n",
        "        return root, None\n",
        "    else:\n",
        "        return None, None  # No real roots\n"
      ]
    },
    {
      "cell_type": "code",
      "source": [
        "# Solve for hard-coded values\n",
        "roots = solve_quadratic(a, b, c)\n",
        "print(\"Roots (hardcoded):\", roots)"
      ],
      "metadata": {
        "colab": {
          "base_uri": "https://localhost:8080/"
        },
        "id": "UdByVRFehELH",
        "outputId": "395314cc-ae58-43cf-e5dc-c0ab4099eba4"
      },
      "execution_count": 2,
      "outputs": [
        {
          "output_type": "stream",
          "name": "stdout",
          "text": [
            "Roots (hardcoded): (2.0, 1.0)\n"
          ]
        }
      ]
    },
    {
      "cell_type": "markdown",
      "source": [
        "**2.\tAccepting variables via keyboard input**"
      ],
      "metadata": {
        "id": "XwHIyETJk60I"
      }
    },
    {
      "cell_type": "code",
      "source": [
        "# Get coefficients from user input\n",
        "a = float(input(\"Enter coefficient a: \"))\n",
        "b = float(input(\"Enter coefficient b: \"))\n",
        "c = float(input(\"Enter coefficient c: \"))\n",
        "\n",
        "# Solve and print the results\n",
        "roots = solve_quadratic(a, b, c)\n",
        "print(\"Roots (user input):\", roots)\n"
      ],
      "metadata": {
        "colab": {
          "base_uri": "https://localhost:8080/"
        },
        "id": "30qSiOirhKI4",
        "outputId": "3505b2c1-271a-441d-aef2-1283a21ec230"
      },
      "execution_count": 3,
      "outputs": [
        {
          "output_type": "stream",
          "name": "stdout",
          "text": [
            "Enter coefficient a: 2\n",
            "Enter coefficient b: -2\n",
            "Enter coefficient c: 10\n",
            "Roots (user input): (None, None)\n"
          ]
        }
      ]
    },
    {
      "cell_type": "markdown",
      "source": [
        "**3.Reading Variables from a File**"
      ],
      "metadata": {
        "id": "XD2cSO7vlWjQ"
      }
    },
    {
      "cell_type": "code",
      "source": [
        "# Read coefficients from a file\n",
        "def read_from_file(filename):\n",
        "    with open(filename, 'r') as file:\n",
        "        lines = file.readlines()\n",
        "    coefficients = [tuple(map(float, line.strip().split(','))) for line in lines]\n",
        "    return coefficients\n"
      ],
      "metadata": {
        "id": "0sr0IJq7hUrd"
      },
      "execution_count": 4,
      "outputs": []
    },
    {
      "cell_type": "markdown",
      "source": [
        "**4.\tProcessing a single set of inputs.**"
      ],
      "metadata": {
        "id": "KKSh083BmMg9"
      }
    },
    {
      "cell_type": "code",
      "source": [
        "# Example: Solve for a single set of inputs\n",
        "coefficients = read_from_file('/content/input1.txt')\n",
        "a, b, c = coefficients[1]  # First set of coefficients\n",
        "roots = solve_quadratic(a, b, c)\n",
        "print(\"Roots (file input - single set):\", roots)"
      ],
      "metadata": {
        "colab": {
          "base_uri": "https://localhost:8080/"
        },
        "id": "Eyjot4fNmKZO",
        "outputId": "14eb7db4-eb31-4468-83f8-c7846f0021d6"
      },
      "execution_count": 8,
      "outputs": [
        {
          "output_type": "stream",
          "name": "stdout",
          "text": [
            "Roots (file input - single set): (3.0, 2.0)\n"
          ]
        }
      ]
    },
    {
      "cell_type": "markdown",
      "source": [
        "**5.Processing multiple sets of inputs**"
      ],
      "metadata": {
        "id": "KlJrVI68lfi-"
      }
    },
    {
      "cell_type": "code",
      "source": [
        "# Solve for all sets in the file\n",
        "for idx, (a, b, c) in enumerate(coefficients):\n",
        "    roots = solve_quadratic(a, b, c)\n",
        "    print(f\"Roots (set {idx+1}): {roots}\")\n"
      ],
      "metadata": {
        "colab": {
          "base_uri": "https://localhost:8080/"
        },
        "id": "Uuekel9AiXCF",
        "outputId": "4127e351-5f5f-4bf8-9dec-0a5137369d95"
      },
      "execution_count": 9,
      "outputs": [
        {
          "output_type": "stream",
          "name": "stdout",
          "text": [
            "Roots (set 1): (4.0, 3.0)\n",
            "Roots (set 2): (3.0, 2.0)\n",
            "Roots (set 3): (1.0, -3.0)\n"
          ]
        }
      ]
    }
  ]
}